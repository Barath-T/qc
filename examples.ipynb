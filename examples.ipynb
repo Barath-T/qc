{
 "cells": [
  {
   "cell_type": "code",
   "execution_count": 2,
   "id": "f8e6c1c4-a09e-48ca-a3f2-c9c2f06b601a",
   "metadata": {},
   "outputs": [],
   "source": [
    "from qiskit import QuantumCircuit\n",
    "from math import pi"
   ]
  },
  {
   "cell_type": "code",
   "execution_count": 13,
   "id": "0ba94051-1e06-4d0e-bd52-27bf6127b586",
   "metadata": {},
   "outputs": [
    {
     "data": {
      "text/plain": [
       "<qiskit.circuit.instructionset.InstructionSet at 0x7f796cb2cb50>"
      ]
     },
     "execution_count": 13,
     "metadata": {},
     "output_type": "execute_result"
    }
   ],
   "source": [
    "qc = QuantumCircuit(4)\n",
    "\n",
    "qc.h([0, 1, 3])\n",
    "\n",
    "qc.barrier()\n",
    "\n",
    "qc.cx(0, 1)\n",
    "qc.cx(1, 2)\n",
    "qc.cx(2, 3)\n",
    "\n",
    "qc.rz(pi/3, 3)\n",
    "\n",
    "qc.cx(2, 3)\n",
    "qc.cx(1, 2)\n",
    "qc.cx(0, 1)\n",
    "\n",
    "qc.barrier()\n",
    "\n",
    "qc.h([0, 1, 3])"
   ]
  },
  {
   "cell_type": "code",
   "execution_count": 14,
   "id": "a7d447a1-e3ec-4fc5-8e62-e9409971d89d",
   "metadata": {},
   "outputs": [
    {
     "data": {
      "text/html": [
       "<pre style=\"word-wrap: normal;white-space: pre;background: #fff0;line-height: 1.1;font-family: &quot;Courier New&quot;,Courier,monospace\">     ┌───┐ ░                                           ░ ┌───┐\n",
       "q_0: ┤ H ├─░───■───────────────────────────────────■───░─┤ H ├\n",
       "     ├───┤ ░ ┌─┴─┐                               ┌─┴─┐ ░ ├───┤\n",
       "q_1: ┤ H ├─░─┤ X ├──■─────────────────────────■──┤ X ├─░─┤ H ├\n",
       "     └───┘ ░ └───┘┌─┴─┐                     ┌─┴─┐└───┘ ░ └───┘\n",
       "q_2: ──────░──────┤ X ├──■───────────────■──┤ X ├──────░──────\n",
       "     ┌───┐ ░      └───┘┌─┴─┐┌─────────┐┌─┴─┐└───┘      ░ ┌───┐\n",
       "q_3: ┤ H ├─░───────────┤ X ├┤ Rz(π/3) ├┤ X ├───────────░─┤ H ├\n",
       "     └───┘ ░           └───┘└─────────┘└───┘           ░ └───┘</pre>"
      ],
      "text/plain": [
       "     ┌───┐ ░                                           ░ ┌───┐\n",
       "q_0: ┤ H ├─░───■───────────────────────────────────■───░─┤ H ├\n",
       "     ├───┤ ░ ┌─┴─┐                               ┌─┴─┐ ░ ├───┤\n",
       "q_1: ┤ H ├─░─┤ X ├──■─────────────────────────■──┤ X ├─░─┤ H ├\n",
       "     └───┘ ░ └───┘┌─┴─┐                     ┌─┴─┐└───┘ ░ └───┘\n",
       "q_2: ──────░──────┤ X ├──■───────────────■──┤ X ├──────░──────\n",
       "     ┌───┐ ░      └───┘┌─┴─┐┌─────────┐┌─┴─┐└───┘      ░ ┌───┐\n",
       "q_3: ┤ H ├─░───────────┤ X ├┤ Rz(π/3) ├┤ X ├───────────░─┤ H ├\n",
       "     └───┘ ░           └───┘└─────────┘└───┘           ░ └───┘"
      ]
     },
     "execution_count": 14,
     "metadata": {},
     "output_type": "execute_result"
    }
   ],
   "source": [
    "qc.draw()"
   ]
  },
  {
   "cell_type": "code",
   "execution_count": null,
   "id": "156ba968-7aba-4993-a52f-20c61ef3ccf5",
   "metadata": {},
   "outputs": [],
   "source": []
  }
 ],
 "metadata": {
  "kernelspec": {
   "display_name": "Python 3 (ipykernel)",
   "language": "python",
   "name": "python3"
  },
  "language_info": {
   "codemirror_mode": {
    "name": "ipython",
    "version": 3
   },
   "file_extension": ".py",
   "mimetype": "text/x-python",
   "name": "python",
   "nbconvert_exporter": "python",
   "pygments_lexer": "ipython3",
   "version": "3.12.8"
  }
 },
 "nbformat": 4,
 "nbformat_minor": 5
}
