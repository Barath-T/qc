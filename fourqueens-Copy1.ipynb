{
 "cells": [
  {
   "cell_type": "markdown",
   "id": "a938f460-25e3-46ff-b9f5-28e261b2f405",
   "metadata": {},
   "source": [
    "# Four queens"
   ]
  },
  {
   "cell_type": "code",
   "execution_count": 1,
   "id": "0665e47a-336b-4d4e-bc22-643af5de6996",
   "metadata": {},
   "outputs": [],
   "source": [
    "from qiskit import QuantumCircuit\n",
    "from qiskit.circuit.library import XGate\n",
    "from qiskit_aer import AerSimulator, Aer\n",
    "from qiskit.visualization import plot_state_city, plot_histogram"
   ]
  },
  {
   "cell_type": "code",
   "execution_count": null,
   "id": "37095b8c-bf4f-4ce1-bccc-34762b4784ed",
   "metadata": {},
   "outputs": [],
   "source": []
  },
  {
   "cell_type": "code",
   "execution_count": 25,
   "id": "48917e84-b04d-445d-854c-27034293420e",
   "metadata": {},
   "outputs": [
    {
     "data": {
      "text/html": [
       "<pre style=\"word-wrap: normal;white-space: pre;background: #fff0;line-height: 1.1;font-family: &quot;Courier New&quot;,Courier,monospace\">        ┌───┐     ┌───┐          ┌───┐ ░ ┌─┐         \n",
       "   q_0: ┤ H ├──■──┤ X ├──■───────┤ X ├─░─┤M├─────────\n",
       "        ├───┤  │  ├───┤  │  ┌───┐└─┬─┘ ░ └╥┘┌─┐      \n",
       "   q_1: ┤ H ├──■──┤ X ├──■──┤ X ├──┼───░──╫─┤M├──────\n",
       "        └───┘┌─┴─┐└───┘  │  └─┬─┘  │   ░  ║ └╥┘┌─┐   \n",
       "   q_2: ─────┤ X ├───────┼────┼────┼───░──╫──╫─┤M├───\n",
       "             └───┘     ┌─┴─┐  │    │   ░  ║  ║ └╥┘┌─┐\n",
       "   q_3: ───────────────┤ X ├──■────■───░──╫──╫──╫─┤M├\n",
       "                       └───┘           ░  ║  ║  ║ └╥┘\n",
       "meas: 4/══════════════════════════════════╩══╩══╩══╩═\n",
       "                                          0  1  2  3 </pre>"
      ],
      "text/plain": [
       "        ┌───┐     ┌───┐          ┌───┐ ░ ┌─┐         \n",
       "   q_0: ┤ H ├──■──┤ X ├──■───────┤ X ├─░─┤M├─────────\n",
       "        ├───┤  │  ├───┤  │  ┌───┐└─┬─┘ ░ └╥┘┌─┐      \n",
       "   q_1: ┤ H ├──■──┤ X ├──■──┤ X ├──┼───░──╫─┤M├──────\n",
       "        └───┘┌─┴─┐└───┘  │  └─┬─┘  │   ░  ║ └╥┘┌─┐   \n",
       "   q_2: ─────┤ X ├───────┼────┼────┼───░──╫──╫─┤M├───\n",
       "             └───┘     ┌─┴─┐  │    │   ░  ║  ║ └╥┘┌─┐\n",
       "   q_3: ───────────────┤ X ├──■────■───░──╫──╫──╫─┤M├\n",
       "                       └───┘           ░  ║  ║  ║ └╥┘\n",
       "meas: 4/══════════════════════════════════╩══╩══╩══╩═\n",
       "                                          0  1  2  3 "
      ]
     },
     "execution_count": 25,
     "metadata": {},
     "output_type": "execute_result"
    }
   ],
   "source": [
    "row_circuit = QuantumCircuit(4, name=\"row\")\n",
    "\n",
    "row_circuit.h(0)\n",
    "row_circuit.h(1)\n",
    "\n",
    "row_circuit.ccx(0, 1, 2)\n",
    "row_circuit.x(0)\n",
    "row_circuit.x(1)\n",
    "row_circuit.ccx(0, 1, 3)\n",
    "\n",
    "row_circuit.cx(3, 1)\n",
    "row_circuit.cx(3, 0)\n",
    "# row = row_circuit.to_instruction()\n",
    "row_circuit.measure_all()\n",
    "row_circuit.draw()"
   ]
  },
  {
   "cell_type": "code",
   "execution_count": null,
   "id": "4edd2664-d0b1-4ed3-8e59-584369cea531",
   "metadata": {},
   "outputs": [],
   "source": [
    "# Simulator\n",
    "simulator = AerSimulator(method=\"statevector\", device=\"GPU\")\n",
    "\n",
    "row_circuit.save_statevector()\n",
    "\n",
    "# Execution on simulator\n",
    "row_result = simulator.run(row_circuit).result()\n",
    "\n",
    "row_sv = row_result.get_statevector(row_circuit)\n",
    "row_result.get_counts(row_circuit)"
   ]
  },
  {
   "cell_type": "code",
   "execution_count": 3,
   "id": "5b328df7-558d-458f-bcd5-6d857d64fae2",
   "metadata": {},
   "outputs": [],
   "source": [
    "qc = QuantumCircuit(25)\n",
    "n = 4\n",
    "# 4x4 16 qubits representing 16 position in the board\n",
    "# built with row gate(rgate), so each row has only one qubit excited (repesenting queen)\n",
    "for i in range(0, n*n, n):\n",
    "    qc.append(row, [i for i in range(i, i+n)])\n",
    "\n",
    "qc = qc.decompose()\n"
   ]
  },
  {
   "cell_type": "code",
   "execution_count": 4,
   "id": "10f01dc0-f41c-45d5-9ae8-14e96f6c8d81",
   "metadata": {},
   "outputs": [
    {
     "data": {
      "text/plain": [
       "<qiskit.circuit.instructionset.InstructionSet at 0x7f28ac4455d0>"
      ]
     },
     "execution_count": 4,
     "metadata": {},
     "output_type": "execute_result"
    }
   ],
   "source": [
    "# n-1(here, 3) ancillas for column check\n",
    "qc.h(16)\n",
    "qc.h(17)\n",
    "qc.h(18)\n",
    "\n",
    "for i in range(0, 16, 4):\n",
    "    qc.cz(16, i)\n",
    "    qc.cz(17, i+1)\n",
    "    qc.cz(18, i+2)\n",
    "\n",
    "qc.h(16)\n",
    "qc.h(17)\n",
    "qc.h(18)"
   ]
  },
  {
   "cell_type": "code",
   "execution_count": 5,
   "id": "dc49ddc3-7a5a-4e59-835f-40b5073d046e",
   "metadata": {},
   "outputs": [],
   "source": [
    "# n(n-1)/2 (here, 6) ancillas for diagonal check\n",
    "qc.x(19)\n",
    "qc.x(20)\n",
    "qc.x(21)\n",
    "qc.x(22)\n",
    "qc.x(23)\n",
    "qc.x(24)\n",
    "# row1, row2 -> qubit19\n",
    "qc.ccx(0, 5, 19)\n",
    "qc.ccx(1, 6, 19)\n",
    "qc.ccx(2, 7, 19)\n",
    "qc.ccx(1, 4, 19)\n",
    "qc.ccx(2, 5, 19)\n",
    "qc.ccx(3, 6, 19)\n",
    "\n",
    "# row1, row3 -> qubit20\n",
    "qc.ccx(0, 10, 20)\n",
    "qc.ccx(1, 11, 20)\n",
    "qc.ccx(2, 8, 20)\n",
    "qc.ccx(3, 9, 20)\n",
    "\n",
    "# row1, row4 -> qubit21\n",
    "qc.ccx(0, 15, 21)\n",
    "qc.ccx(3, 12, 21)\n",
    "\n",
    "# row2, row3 -> qubit22\n",
    "qc.ccx(4, 9, 22)\n",
    "qc.ccx(5, 10, 22)\n",
    "qc.ccx(6, 11, 22)\n",
    "qc.ccx(5, 8, 22)\n",
    "qc.ccx(6, 9, 22)\n",
    "qc.ccx(7, 10, 22)\n",
    "\n",
    "#row2, row4 -> qubit23\n",
    "qc.ccx(4, 14, 23)\n",
    "qc.ccx(5, 15, 23)\n",
    "qc.ccx(6, 12, 23)\n",
    "qc.ccx(7, 13, 23)\n",
    "\n",
    "# row3, row4 -> qubit24\n",
    "qc.ccx(8, 13, 24)\n",
    "qc.ccx(9, 14, 24)\n",
    "qc.ccx(10, 15, 24)\n",
    "qc.ccx(9, 12, 24)\n",
    "qc.ccx(10, 13, 24)\n",
    "qc.ccx(11, 14, 24)\n",
    "\n",
    "qc.measure_all()"
   ]
  },
  {
   "cell_type": "code",
   "execution_count": null,
   "id": "c77eb67d-011f-445f-884e-d255521cba38",
   "metadata": {
    "scrolled": true
   },
   "outputs": [],
   "source": [
    "qc.draw(output=\"mpl\")"
   ]
  },
  {
   "cell_type": "code",
   "execution_count": 6,
   "id": "1cf212c7-f724-4f42-8a50-3eefd2178f96",
   "metadata": {},
   "outputs": [
    {
     "name": "stdout",
     "output_type": "stream",
     "text": [
      "253\n"
     ]
    }
   ],
   "source": [
    "# Simulator\n",
    "simulator = AerSimulator(method=\"statevector\", device=\"GPU\")\n",
    "# simulator = Aer.get_backend('statevector_simulator')\n",
    "\n",
    "qc.save_statevector()\n",
    "\n",
    "# Execution on simulator\n",
    "result = simulator.run(qc, shots=1024).result()\n",
    "\n",
    "sv = result.get_statevector(qc)\n",
    "\n",
    "counts = result.get_counts(qc)\n",
    "print(len(counts))\n"
   ]
  },
  {
   "cell_type": "code",
   "execution_count": 11,
   "id": "98cd1cf4-55f5-4ee1-ad3b-57c810aad35d",
   "metadata": {},
   "outputs": [],
   "source": [
    "from qiskit_ibm_runtime import QiskitRuntimeService, SamplerV2 as Sampler\n",
    "from qiskit.transpiler.preset_passmanagers import generate_preset_pass_manager\n",
    "from qiskit.transpiler import PassManager, InstructionDurations\n",
    "from qiskit_ibm_runtime.transpiler.passes.scheduling import (\n",
    "    ASAPScheduleAnalysis,\n",
    "    PadDynamicalDecoupling,\n",
    ")\n",
    " \n",
    "# If you have not previously saved your credentials, follow instructions at\n",
    "# https://docs.quantum.ibm.com/guides/setup-channel#iqp\n",
    "# to authenticate with your API token.\n",
    "service = QiskitRuntimeService(channel=\"ibm_quantum\", token=\"b8e4542f8f1728ac3463a50ecc8a3739a663a9f9ac08b86a6af9ea4f57af9ad1e21bc8a7a5dae2d0a2134aa414c8ab736ab59702d4040c3ded66f3d5ae1b55f6\")"
   ]
  },
  {
   "cell_type": "code",
   "execution_count": 20,
   "id": "32723024-e826-4015-abc5-64237a60451c",
   "metadata": {},
   "outputs": [],
   "source": [
    "from qiskit import QuantumRegister, ClassicalRegister, QuantumCircuit\n",
    "from numpy import pi\n",
    "\n",
    "qreg_q = QuantumRegister(4, 'q')\n",
    "creg_c = ClassicalRegister(4, 'c')\n",
    "circuit = QuantumCircuit(qreg_q, creg_c)\n",
    "\n",
    "circuit.x(qreg_q[0])\n",
    "circuit.x(qreg_q[2])\n",
    "circuit.x(qreg_q[1])\n",
    "circuit.ccx(qreg_q[0], qreg_q[1], qreg_q[3])\n",
    "circuit.cx(qreg_q[0], qreg_q[1])\n",
    "circuit.ccx(qreg_q[1], qreg_q[2], qreg_q[3])\n",
    "circuit.cx(qreg_q[1], qreg_q[2])\n",
    "circuit.cx(qreg_q[0], qreg_q[1])\n",
    "circuit.measure_all()"
   ]
  },
  {
   "cell_type": "code",
   "execution_count": null,
   "id": "9378b0ea-9c67-41ef-a87a-2ba3cdca4961",
   "metadata": {},
   "outputs": [],
   "source": [
    "backend = service.least_busy(simulator=False, operational=True)\n",
    "\n",
    "# Convert to an ISA circuit and layout-mapped observables.\n",
    "# pm = generate_preset_pass_manager(backend=backend, optimization_level=1)\n",
    "# isa_circuit = pm.run(row_circuit)\n",
    "# Get gate durations so the transpiler knows how long each operation takes\n",
    "mc = QuantumCircuit(10)\n",
    "mc.measure_all()\n",
    "pm = generate_preset_pass_manager(3, backend=backend)\n",
    "t_rc = pm.run(mc)\n",
    "\n",
    "\n",
    "durations = InstructionDurations().from_backend(backend)\n",
    "\n",
    "# This is the sequence we'll apply to idling qubits\n",
    "dd_sequence = [XGate(), XGate()]\n",
    "pm = PassManager([ASAPScheduleAnalysis(durations), PadDynamicalDecoupling(durations, dd_sequence)])\n",
    "isa_circuit = pm.run(t_rc)\n",
    "# isa_circuit.draw(\"mpl\", idle_wires=False)"
   ]
  },
  {
   "cell_type": "code",
   "execution_count": null,
   "id": "4433e19e-5a46-43ad-8528-7326fbb5c15a",
   "metadata": {},
   "outputs": [],
   "source": [
    "sampler = Sampler(backend)\n",
    "job = sampler.run([isa_circuit], shots=16000)"
   ]
  },
  {
   "cell_type": "code",
   "execution_count": null,
   "id": "723ba754-5fe2-449d-bb53-d4868864f96a",
   "metadata": {},
   "outputs": [],
   "source": [
    "job_result = job.result()\n",
    "\n",
    "# This is the result from our single pub, which had six observables,\n",
    "# so contains information on all six.\n",
    "counts = job.result()[0].data.meas.get_counts()"
   ]
  },
  {
   "cell_type": "code",
   "execution_count": null,
   "id": "7d9ac747-00fc-4926-b316-6cab65300ba6",
   "metadata": {
    "scrolled": true
   },
   "outputs": [],
   "source": []
  },
  {
   "cell_type": "code",
   "execution_count": null,
   "id": "04af1e33-cd43-4f86-9fe1-b45c970f81fb",
   "metadata": {
    "scrolled": true
   },
   "outputs": [],
   "source": [
    "# print(backend)\n",
    "expected = ['00000001', '00000010', '00000100', '00001000', '00010000', '00100000', '01000000', '10000000']\n",
    "plot_histogram(dict((k,v) for k,v in counts.items() if k in expected))"
   ]
  },
  {
   "cell_type": "code",
   "execution_count": null,
   "id": "16fbf1ea-9857-45eb-9885-c952f31d1643",
   "metadata": {
    "scrolled": true
   },
   "outputs": [],
   "source": [
    "plot_histogram(counts)"
   ]
  },
  {
   "cell_type": "code",
   "execution_count": 9,
   "id": "58833b63-b30d-4020-8d99-a35c3d3ea718",
   "metadata": {},
   "outputs": [],
   "source": [
    "# pretty print\n",
    "def position(key):\n",
    "    for i in range(0, 16):\n",
    "        print('q' if key[24-i] == '1' else '.', end=' ')\n",
    "        if (i+1)%4 == 0:\n",
    "            print()"
   ]
  },
  {
   "cell_type": "code",
   "execution_count": 10,
   "id": "5b877227-2684-49da-8be1-5b9ae1fb5cd2",
   "metadata": {},
   "outputs": [
    {
     "name": "stdout",
     "output_type": "stream",
     "text": [
      ". q . . \n",
      ". . . q \n",
      "q . . . \n",
      ". . q . \n",
      "count: 6 \n",
      "\n",
      ". . q . \n",
      "q . . . \n",
      ". . . q \n",
      ". q . . \n",
      "count: 2 \n",
      "\n"
     ]
    }
   ],
   "source": [
    "# filter out the output, all ancillary bits should be 1\n",
    "import re\n",
    "regex = re.compile(r'1{9}[01]+')\n",
    "\n",
    "for key, value in counts.items():\n",
    "    if regex.match(key):\n",
    "        position(key)\n",
    "        print(\"count:\",value, '\\n')"
   ]
  },
  {
   "cell_type": "code",
   "execution_count": null,
   "id": "57711041-6cf7-47f2-94b8-e05f855dc7a9",
   "metadata": {},
   "outputs": [],
   "source": []
  }
 ],
 "metadata": {
  "kernelspec": {
   "display_name": "Python 3 (ipykernel)",
   "language": "python",
   "name": "python3"
  },
  "language_info": {
   "codemirror_mode": {
    "name": "ipython",
    "version": 3
   },
   "file_extension": ".py",
   "mimetype": "text/x-python",
   "name": "python",
   "nbconvert_exporter": "python",
   "pygments_lexer": "ipython3",
   "version": "3.12.8"
  }
 },
 "nbformat": 4,
 "nbformat_minor": 5
}
