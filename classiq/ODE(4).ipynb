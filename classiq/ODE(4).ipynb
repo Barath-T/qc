{
 "cells": [
  {
   "cell_type": "code",
   "execution_count": 135,
   "metadata": {},
   "outputs": [],
   "source": [
    "from classiq import *\n",
    "import numpy as np\n",
    "import scipy as sc"
   ]
  },
  {
   "cell_type": "code",
   "execution_count": 136,
   "metadata": {},
   "outputs": [],
   "source": [
    "#constants \n",
    "k = 7\n",
    "t = 1\n",
    "A = np.array([[0, 1], [-1, 0]])\n",
    "x_0 = [1, 1]\n",
    "x_0_norm = np.linalg.norm(x_0)\n",
    "T = int(np.log2(k + 1))\n",
    "# A_norm = np.linalg.norm(A)\n",
    "vs1 = []\n",
    "c = 0"
   ]
  },
  {
   "cell_type": "code",
   "execution_count": 137,
   "metadata": {},
   "outputs": [],
   "source": [
    "def VS1():\n",
    "    global vs1\n",
    "    global c\n",
    "    c_m = np.zeros(k + 1)\n",
    "    m_factorial = 1\n",
    "    for i in range(k + 1):\n",
    "        c_m[i] = (x_0_norm * (pow(t, i))) / m_factorial\n",
    "        c += c_m[i]\n",
    "        m_factorial *= (i + 1)\n",
    "\n",
    "    c = np.sqrt(c)\n",
    "\n",
    "\n",
    "    # Householder matrix\n",
    "    e = np.zeros(k + 1)\n",
    "    e[0] = 1\n",
    "    w = np.subtract([np.sqrt(c_m[i]) / c for i in range(k + 1)], e)        \n",
    "    vs1 = np.subtract(np.identity(k + 1), np.multiply(2 * (1 / np.inner(w, w)), np.outer(w, w)))\n"
   ]
  },
  {
   "cell_type": "code",
   "execution_count": 138,
   "metadata": {},
   "outputs": [],
   "source": [
    "def evolution_operator():\n",
    "    u_m = [np.array([[1, 0], [0, 1]])]\n",
    "    for i in range(1, k + 1):\n",
    "        u_m.append(u_m[i - 1] @ A)\n",
    "    U = sc.linalg.block_diag(*u_m)\n",
    "    return U"
   ]
  },
  {
   "cell_type": "code",
   "execution_count": 139,
   "metadata": {},
   "outputs": [],
   "source": [
    "u_m = [np.array([[1, 0], [0, 1]])]\n",
    "for i in range(1, k + 1):\n",
    "    u_m.append(u_m[i - 1] @ A ) \n",
    "U = sc.linalg.block_diag(*u_m)"
   ]
  },
  {
   "cell_type": "code",
   "execution_count": 140,
   "metadata": {},
   "outputs": [],
   "source": [
    "VS1()"
   ]
  },
  {
   "cell_type": "code",
   "execution_count": 141,
   "metadata": {},
   "outputs": [],
   "source": [
    "@qfunc\n",
    "def encoding(x : QBit, n_arr:QNum):\n",
    "    prob = [ 1 / 2, 1 / 2]\n",
    "    inplace_prepare_state(prob, 0.01, x)\n",
    "    \n",
    "    # H(n_arr[0])\n",
    "\n",
    "    #VS1()\n",
    "    unitary(vs1, n_arr)"
   ]
  },
  {
   "cell_type": "code",
   "execution_count": 142,
   "metadata": {},
   "outputs": [],
   "source": [
    "def bit_reverse_index(index, num_qubits):\n",
    "    \"\"\"Compute the bit-reversed index for a given number of qubits.\"\"\"\n",
    "    binary = f\"{index:0{num_qubits}b}\"  # Convert to binary with leading zeros\n",
    "    reversed_binary = binary[::-1]      # Reverse the string\n",
    "    return int(reversed_binary, 2)      # Convert back to integer\n",
    "\n",
    "def reverse_unitary_matrix(U):\n",
    "    \"\"\"Rearrange a unitary matrix for reversed qubit order.\"\"\"\n",
    "    num_qubits = int(np.log2(U.shape[0]))  # Determine the number of qubits\n",
    "    size = 2 ** num_qubits                 # Matrix size (2^n x 2^n)\n",
    "    \n",
    "    # Create a new matrix with permuted indices\n",
    "    U_reversed = np.zeros_like(U)\n",
    "    for i in range(size):\n",
    "        for j in range(size):\n",
    "            U_reversed[bit_reverse_index(i, num_qubits), bit_reverse_index(j, num_qubits)] = U[i, j]\n",
    "    \n",
    "    return U_reversed"
   ]
  },
  {
   "cell_type": "code",
   "execution_count": 143,
   "metadata": {},
   "outputs": [],
   "source": [
    "@qfunc\n",
    "def evolution(x: QBit, n_arr:QNum):\n",
    "   \n",
    "#      U = evolution_operator()\n",
    "#     # # U = reverse_unitary_matrix(U)\n",
    "#      unitary(U, n_arr)\n",
    "     u_m = np.array([[1, 0], [0, 1]])\n",
    "     for i in range(k + 1):\n",
    "          control(n_arr == i, lambda: unitary(u_m, x)) \n",
    "          u_m = u_m @ A\n"
   ]
  },
  {
   "cell_type": "code",
   "execution_count": 144,
   "metadata": {},
   "outputs": [],
   "source": [
    "@qfunc\n",
    "def decoding(n_arr:QNum):\n",
    "    ws1 = vs1.T\n",
    "    unitary(ws1, n_arr)"
   ]
  },
  {
   "cell_type": "code",
   "execution_count": 145,
   "metadata": {},
   "outputs": [],
   "source": [
    "@qfunc\n",
    "def main(x : Output[QBit], n_arr : Output[QNum[T]], y : Output[QBit]):\n",
    "    allocate(x)\n",
    "    allocate(n_arr)\n",
    "    allocate(y)\n",
    "\n",
    "    encoding(x, n_arr)\n",
    "    evolution(x, n_arr)\n",
    "    decoding(n_arr)"
   ]
  },
  {
   "cell_type": "code",
   "execution_count": 146,
   "metadata": {},
   "outputs": [
    {
     "data": {
      "text/plain": [
       "1.381746031627306"
      ]
     },
     "execution_count": 146,
     "metadata": {},
     "output_type": "execute_result"
    }
   ],
   "source": [
    "(c * c) * 0.3594373448"
   ]
  },
  {
   "cell_type": "code",
   "execution_count": 147,
   "metadata": {},
   "outputs": [
    {
     "name": "stdout",
     "output_type": "stream",
     "text": [
      "Opening: https://platform.classiq.io/circuit/2ufoumRbFoq9icYOxe5YuPmlKJf?login=True&version=0.72.1\n"
     ]
    }
   ],
   "source": [
    "qmod = create_model(main)\n",
    "qprog = synthesize(qmod)\n",
    "show(qprog)"
   ]
  }
 ],
 "metadata": {
  "kernelspec": {
   "display_name": "classiq-venv",
   "language": "python",
   "name": "python3"
  },
  "language_info": {
   "codemirror_mode": {
    "name": "ipython",
    "version": 3
   },
   "file_extension": ".py",
   "mimetype": "text/x-python",
   "name": "python",
   "nbconvert_exporter": "python",
   "pygments_lexer": "ipython3",
   "version": "3.12.9"
  }
 },
 "nbformat": 4,
 "nbformat_minor": 2
}
