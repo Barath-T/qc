{
 "cells": [
  {
   "cell_type": "code",
   "execution_count": 75,
   "metadata": {},
   "outputs": [],
   "source": [
    "from classiq import *\n",
    "import numpy as np\n",
    "import scipy as sc"
   ]
  },
  {
   "cell_type": "code",
   "execution_count": 76,
   "metadata": {},
   "outputs": [],
   "source": [
    "#constants \n",
    "k = 7\n",
    "t = 0.767\n",
    "A = np.array([[0, 1], [-1, 0]])\n",
    "x_0 = [1, 1]\n",
    "x_0_norm = np.linalg.norm(x_0)\n",
    "T = int(np.log2(k + 1))\n",
    "# A_norm = np.linalg.norm(A)\n",
    "vs1 = []\n",
    "c = 0"
   ]
  },
  {
   "cell_type": "code",
   "execution_count": 77,
   "metadata": {},
   "outputs": [],
   "source": [
    "def VS1():\n",
    "    global vs1\n",
    "    global c\n",
    "    c_m = np.zeros(k + 1)\n",
    "    m_factorial = 1\n",
    "    for i in range(k + 1):\n",
    "        c_m[i] = (x_0_norm * (pow(t, i))) / m_factorial\n",
    "        c += c_m[i]\n",
    "        m_factorial *= (i + 1)\n",
    "\n",
    "    c = np.sqrt(c)\n",
    "\n",
    "\n",
    "    # Householder matrix\n",
    "    e = np.zeros(k + 1)\n",
    "    e[0] = 1\n",
    "    w = np.subtract([np.sqrt(c_m[i]) / c for i in range(k + 1)], e)        \n",
    "    vs1 = np.subtract(np.identity(k + 1), np.multiply(2 * (1 / np.inner(w, w)), np.outer(w, w)))\n"
   ]
  },
  {
   "cell_type": "code",
   "execution_count": 78,
   "metadata": {},
   "outputs": [],
   "source": [
    "def evolution_operator():\n",
    "    u_m = [np.array([[1, 0], [0, 1]])]\n",
    "    for i in range(1, k + 1):\n",
    "        u_m.append(u_m[i - 1] @ A)\n",
    "    U = sc.linalg.block_diag(*u_m)\n",
    "    return U"
   ]
  },
  {
   "cell_type": "code",
   "execution_count": 79,
   "metadata": {},
   "outputs": [],
   "source": [
    "u_m = [np.array([[1, 0], [0, 1]])]\n",
    "for i in range(1, k + 1):\n",
    "    u_m.append(u_m[i - 1] @ A ) \n",
    "U = sc.linalg.block_diag(*u_m)"
   ]
  },
  {
   "cell_type": "code",
   "execution_count": 80,
   "metadata": {},
   "outputs": [],
   "source": [
    "VS1()"
   ]
  },
  {
   "cell_type": "code",
   "execution_count": 81,
   "metadata": {},
   "outputs": [],
   "source": [
    "@qfunc\n",
    "def encoding(n_arr:QArray[QBit]):\n",
    "    prob = [ 1 / 2, 1 / 2]\n",
    "    inplace_prepare_state(prob, 0.01, n_arr[0])\n",
    "    \n",
    "    # H(n_arr[0])\n",
    "\n",
    "    #VS1()\n",
    "    unitary(vs1, n_arr[1:T + 1])"
   ]
  },
  {
   "cell_type": "code",
   "execution_count": 82,
   "metadata": {},
   "outputs": [],
   "source": [
    "def bit_reverse_index(index, num_qubits):\n",
    "    \"\"\"Compute the bit-reversed index for a given number of qubits.\"\"\"\n",
    "    binary = f\"{index:0{num_qubits}b}\"  # Convert to binary with leading zeros\n",
    "    reversed_binary = binary[::-1]      # Reverse the string\n",
    "    return int(reversed_binary, 2)      # Convert back to integer\n",
    "\n",
    "def reverse_unitary_matrix(U):\n",
    "    \"\"\"Rearrange a unitary matrix for reversed qubit order.\"\"\"\n",
    "    num_qubits = int(np.log2(U.shape[0]))  # Determine the number of qubits\n",
    "    size = 2 ** num_qubits                 # Matrix size (2^n x 2^n)\n",
    "    \n",
    "    # Create a new matrix with permuted indices\n",
    "    U_reversed = np.zeros_like(U)\n",
    "    for i in range(size):\n",
    "        for j in range(size):\n",
    "            U_reversed[bit_reverse_index(i, num_qubits), bit_reverse_index(j, num_qubits)] = U[i, j]\n",
    "    \n",
    "    return U_reversed"
   ]
  },
  {
   "cell_type": "code",
   "execution_count": 83,
   "metadata": {},
   "outputs": [],
   "source": [
    "@qfunc\n",
    "def evolution(n_arr:QArray[QBit]):\n",
    "   \n",
    "     U = evolution_operator()\n",
    "    # # U = reverse_unitary_matrix(U)\n",
    "     unitary(U, n_arr)"
   ]
  },
  {
   "cell_type": "code",
   "execution_count": 84,
   "metadata": {},
   "outputs": [],
   "source": [
    "@qfunc\n",
    "def decoding(n_arr:QArray[QBit]):\n",
    "    ws1 = vs1.T\n",
    "    unitary(ws1, n_arr[1:T + 1])"
   ]
  },
  {
   "cell_type": "code",
   "execution_count": 88,
   "metadata": {},
   "outputs": [],
   "source": [
    "@qfunc\n",
    "def main(n_arr : Output[QArray[QBit, T+1]],x : Output[QBit]):\n",
    "    allocate(n_arr)\n",
    "    allocate(x)\n",
    "    encoding(n_arr)\n",
    "    evolution(n_arr)\n",
    "    decoding(n_arr)"
   ]
  },
  {
   "cell_type": "code",
   "execution_count": 90,
   "metadata": {},
   "outputs": [
    {
     "data": {
      "text/plain": [
       "1.4139710156378262"
      ]
     },
     "execution_count": 90,
     "metadata": {},
     "output_type": "execute_result"
    }
   ],
   "source": [
    "(c * c) * 0.4643252445"
   ]
  },
  {
   "cell_type": "code",
   "execution_count": 89,
   "metadata": {},
   "outputs": [
    {
     "name": "stdout",
     "output_type": "stream",
     "text": [
      "Opening: https://platform.classiq.io/circuit/2ufdCbtU4iDviFdYkDyalzZ1C1k?login=True&version=0.72.1\n"
     ]
    }
   ],
   "source": [
    "qmod = create_model(main)\n",
    "qprog = synthesize(qmod)\n",
    "show(qprog)"
   ]
  }
 ],
 "metadata": {
  "kernelspec": {
   "display_name": "classiq-venv",
   "language": "python",
   "name": "python3"
  },
  "language_info": {
   "codemirror_mode": {
    "name": "ipython",
    "version": 3
   },
   "file_extension": ".py",
   "mimetype": "text/x-python",
   "name": "python",
   "nbconvert_exporter": "python",
   "pygments_lexer": "ipython3",
   "version": "3.12.9"
  }
 },
 "nbformat": 4,
 "nbformat_minor": 2
}
