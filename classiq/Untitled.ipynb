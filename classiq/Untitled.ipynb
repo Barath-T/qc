{
 "cells": [
  {
   "cell_type": "code",
   "execution_count": 2,
   "id": "64e5d525-4771-4ba8-9025-66e94635a148",
   "metadata": {},
   "outputs": [],
   "source": [
    "from classiq import *"
   ]
  },
  {
   "cell_type": "code",
   "execution_count": 3,
   "id": "cfcca6ea-ea52-447d-9630-f98a717292b1",
   "metadata": {},
   "outputs": [],
   "source": [
    "@qfunc\n",
    "def main_(x: Output[QNum], y: Output[QNum]):\n",
    "\n",
    "    allocate(4, x)\n",
    "    hadamard_transform(x)\n",
    "    y |= x**2 + 1"
   ]
  },
  {
   "cell_type": "code",
   "execution_count": 4,
   "id": "df0728b7-df3f-4873-a274-ab7e8c83a16b",
   "metadata": {},
   "outputs": [],
   "source": [
    "quantum_program = synthesize(create_model(main))"
   ]
  },
  {
   "cell_type": "code",
   "execution_count": 5,
   "id": "26fc755e-dc1a-47ef-ab15-d0edd38188a3",
   "metadata": {},
   "outputs": [
    {
     "name": "stdout",
     "output_type": "stream",
     "text": [
      "Opening: https://platform.classiq.io/circuit/2siYdMlgQioxEi1G4JrD3faXP8b?version=0.67.0\n"
     ]
    }
   ],
   "source": [
    "show(quantum_program)"
   ]
  },
  {
   "cell_type": "code",
   "execution_count": 6,
   "id": "706fd6b4-bce3-4be1-8d36-ec9a6455986d",
   "metadata": {},
   "outputs": [
    {
     "name": "stdout",
     "output_type": "stream",
     "text": [
      "[{'x': 0, 'y': 1}: 145, {'x': 8, 'y': 65}: 138, {'x': 5, 'y': 26}: 137, {'x': 6, 'y': 37}: 134, {'x': 7, 'y': 50}: 133, {'x': 13, 'y': 170}: 133, {'x': 15, 'y': 226}: 132, {'x': 11, 'y': 122}: 131, {'x': 14, 'y': 197}: 129, {'x': 12, 'y': 145}: 125, {'x': 10, 'y': 101}: 122, {'x': 1, 'y': 2}: 120, {'x': 3, 'y': 10}: 118, {'x': 9, 'y': 82}: 118, {'x': 2, 'y': 5}: 117, {'x': 4, 'y': 17}: 116]\n"
     ]
    }
   ],
   "source": [
    "job = execute(quantum_program)\n",
    "results = job.result()[0].value.parsed_counts\n",
    "print(results)"
   ]
  },
  {
   "cell_type": "code",
   "execution_count": 4,
   "id": "5a63406b-1961-49da-97e5-e622bf76262f",
   "metadata": {},
   "outputs": [],
   "source": [
    "@qfunc\n",
    "def main(qba: Output[QArray[QBit]]):\n",
    "\n",
    "    allocate(4, qba)\n",
    "    exponentiation_with_depth_constraint(\n",
    "        [PauliTerm(pauli=[Pauli.X, Pauli.Z, Pauli.X, Pauli.X], coefficient=0.3)],\n",
    "        evolution_coefficient=0.05,\n",
    "        max_depth=50,\n",
    "        qbv=qba,\n",
    "    )\n",
    "\n",
    "\n",
    "qmod = create_model(main, out_file=\"hamiltonian_evolution_exponentiation\")\n",
    "qprog = synthesize(qmod)"
   ]
  },
  {
   "cell_type": "code",
   "execution_count": 5,
   "id": "acc550ac-82a2-469b-b737-419b7bd511bb",
   "metadata": {},
   "outputs": [
    {
     "name": "stdout",
     "output_type": "stream",
     "text": [
      "Opening: https://platform.classiq.io/circuit/2tswku53Wx0UppdBnQb3X8vd3Gb?version=0.70.0\n"
     ]
    }
   ],
   "source": [
    "show(qprog)"
   ]
  },
  {
   "cell_type": "code",
   "execution_count": null,
   "id": "24785a19-6d91-41d8-bb3e-e901fcaf99e6",
   "metadata": {},
   "outputs": [],
   "source": []
  }
 ],
 "metadata": {
  "kernelspec": {
   "display_name": "Python 3 (ipykernel)",
   "language": "python",
   "name": "python3"
  },
  "language_info": {
   "codemirror_mode": {
    "name": "ipython",
    "version": 3
   },
   "file_extension": ".py",
   "mimetype": "text/x-python",
   "name": "python",
   "nbconvert_exporter": "python",
   "pygments_lexer": "ipython3",
   "version": "3.12.8"
  }
 },
 "nbformat": 4,
 "nbformat_minor": 5
}
