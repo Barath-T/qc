{
 "cells": [
  {
   "cell_type": "code",
   "execution_count": 84,
   "id": "9d3e3dbf-2107-41ca-bde4-83611183b4c6",
   "metadata": {},
   "outputs": [],
   "source": [
    "from qiskit import QuantumCircuit\n",
    "from qiskit_aer import AerSimulator, Aer\n",
    "import networkx as nx\n",
    "import numpy as np\n",
    "from scipy.optimize import minimize\n",
    "from qiskit.visualization import plot_histogram"
   ]
  },
  {
   "cell_type": "code",
   "execution_count": 3,
   "id": "f5bb25ad-6455-4ef1-b30f-7ee4095f9f74",
   "metadata": {},
   "outputs": [
    {
     "data": {
      "image/png": "[encoded data removed]",
      "text/plain": [
       "<Figure size 640x480 with 1 Axes>"
      ]
     },
     "metadata": {},
     "output_type": "display_data"
    }
   ],
   "source": [
    "G = nx.Graph()\n",
    "edges = [[0,3], [0,4], [1,3], [1,4], [2,3], [2,4]]\n",
    "G.add_edges_from(edges)\n",
    "\n",
    "nx.draw(G, pos = nx.bipartite_layout(G, [0,1,2]))"
   ]
  },
  {
   "cell_type": "code",
   "execution_count": 20,
   "id": "2a3983cc-afad-4f30-b7a3-a0808a14045f",
   "metadata": {},
   "outputs": [],
   "source": [
    "def append_zz(qc, q1, q2, gamma):\n",
    "    qc.cx(q1, q2)\n",
    "    qc.rz(2*gamma, q2)\n",
    "    qc.cx(q1, q2)\n",
    "\n",
    "def build_cost_operator_circuit(G, gamma):\n",
    "    N = G.number_of_nodes()\n",
    "    qc = QuantumCircuit(N, N)\n",
    "    \n",
    "    return qc"
   ]
  },
  {
   "cell_type": "code",
   "execution_count": 21,
   "id": "32b581d2-0f29-4bc4-9e91-f7242acbc290",
   "metadata": {},
   "outputs": [
    {
     "data": {
      "text/html": [
       "<pre style=\"word-wrap: normal;white-space: pre;background: #fff0;line-height: 1.1;font-family: &quot;Courier New&quot;,Courier,monospace\">                                                                            »\n",
       "q_0: ──■────────────────■────■────────────────────────────■─────────────────»\n",
       "       │                │    │     ┌───┐    ┌──────────┐  │  ┌───┐     ┌───┐»\n",
       "q_1: ──┼────────────────┼────┼─────┤ X ├────┤ Rz(2π/3) ├──┼──┤ X ├─────┤ X ├»\n",
       "       │                │    │     └─┬─┘    └──────────┘  │  └─┬─┘┌───┐└─┬─┘»\n",
       "q_2: ──┼────────────────┼────┼───────┼────────────────────┼────┼──┤ X ├──┼──»\n",
       "     ┌─┴─┐┌──────────┐┌─┴─┐  │       │                    │    │  └─┬─┘  │  »\n",
       "q_3: ┤ X ├┤ Rz(2π/3) ├┤ X ├──┼───────■────────────────────┼────■────■────┼──»\n",
       "     └───┘└──────────┘└───┘┌─┴─┐┌──────────┐            ┌─┴─┐            │  »\n",
       "q_4: ──────────────────────┤ X ├┤ Rz(2π/3) ├────────────┤ X ├────────────■──»\n",
       "                           └───┘└──────────┘            └───┘               »\n",
       "c: 5/═══════════════════════════════════════════════════════════════════════»\n",
       "                                                                            »\n",
       "«                                                 \n",
       "«q_0: ────────────────────────────────────────────\n",
       "«     ┌──────────┐     ┌───┐                      \n",
       "«q_1: ┤ Rz(2π/3) ├─────┤ X ├──────────────────────\n",
       "«     ├──────────┤┌───┐└─┬─┘┌───┐┌──────────┐┌───┐\n",
       "«q_2: ┤ Rz(2π/3) ├┤ X ├──┼──┤ X ├┤ Rz(2π/3) ├┤ X ├\n",
       "«     └──────────┘└─┬─┘  │  └─┬─┘└──────────┘└─┬─┘\n",
       "«q_3: ──────────────■────┼────┼────────────────┼──\n",
       "«                        │    │                │  \n",
       "«q_4: ───────────────────■────■────────────────■──\n",
       "«                                                 \n",
       "«c: 5/════════════════════════════════════════════\n",
       "«                                                 </pre>"
      ],
      "text/plain": [
       "                                                                            »\n",
       "q_0: ──■────────────────■────■────────────────────────────■─────────────────»\n",
       "       │                │    │     ┌───┐    ┌──────────┐  │  ┌───┐     ┌───┐»\n",
       "q_1: ──┼────────────────┼────┼─────┤ X ├────┤ Rz(2π/3) ├──┼──┤ X ├─────┤ X ├»\n",
       "       │                │    │     └─┬─┘    └──────────┘  │  └─┬─┘┌───┐└─┬─┘»\n",
       "q_2: ──┼────────────────┼────┼───────┼────────────────────┼────┼──┤ X ├──┼──»\n",
       "     ┌─┴─┐┌──────────┐┌─┴─┐  │       │                    │    │  └─┬─┘  │  »\n",
       "q_3: ┤ X ├┤ Rz(2π/3) ├┤ X ├──┼───────■────────────────────┼────■────■────┼──»\n",
       "     └───┘└──────────┘└───┘┌─┴─┐┌──────────┐            ┌─┴─┐            │  »\n",
       "q_4: ──────────────────────┤ X ├┤ Rz(2π/3) ├────────────┤ X ├────────────■──»\n",
       "                           └───┘└──────────┘            └───┘               »\n",
       "c: 5/═══════════════════════════════════════════════════════════════════════»\n",
       "                                                                            »\n",
       "«                                                 \n",
       "«q_0: ────────────────────────────────────────────\n",
       "«     ┌──────────┐     ┌───┐                      \n",
       "«q_1: ┤ Rz(2π/3) ├─────┤ X ├──────────────────────\n",
       "«     ├──────────┤┌───┐└─┬─┘┌───┐┌──────────┐┌───┐\n",
       "«q_2: ┤ Rz(2π/3) ├┤ X ├──┼──┤ X ├┤ Rz(2π/3) ├┤ X ├\n",
       "«     └──────────┘└─┬─┘  │  └─┬─┘└──────────┘└─┬─┘\n",
       "«q_3: ──────────────■────┼────┼────────────────┼──\n",
       "«                        │    │                │  \n",
       "«q_4: ───────────────────■────■────────────────■──\n",
       "«                                                 \n",
       "«c: 5/════════════════════════════════════════════\n",
       "«                                                 "
      ]
     },
     "execution_count": 21,
     "metadata": {},
     "output_type": "execute_result"
    }
   ],
   "source": [
    "qc = build_cost_operator_circuit(G, np.pi/3)\n",
    "qc.draw()"
   ]
  },
  {
   "cell_type": "code",
   "execution_count": 22,
   "id": "f98abd6e-87d8-4d45-bc72-e2e09c69d725",
   "metadata": {},
   "outputs": [],
   "source": [
    "def append_x(qc, q1, beta):\n",
    "    qc.rx(2*beta, q1)\n",
    "\n",
    "def build_mixer_operator_circuit(G, beta):\n",
    "    N = G.number_of_nodes()\n",
    "    qc = QuantumCircuit(N,N)\n",
    "    for n in G.nodes():\n",
    "        append_x(qc, n, beta)\n",
    "    return qc"
   ]
  },
  {
   "cell_type": "code",
   "execution_count": 23,
   "id": "cc579ce3-c38a-4056-8f7b-d81733deb02e",
   "metadata": {},
   "outputs": [
    {
     "data": {
      "text/html": [
       "<pre style=\"word-wrap: normal;white-space: pre;background: #fff0;line-height: 1.1;font-family: &quot;Courier New&quot;,Courier,monospace\">     ┌──────────┐\n",
       "q_0: ┤ Rx(2π/3) ├\n",
       "     ├──────────┤\n",
       "q_1: ┤ Rx(2π/3) ├\n",
       "     ├──────────┤\n",
       "q_2: ┤ Rx(2π/3) ├\n",
       "     ├──────────┤\n",
       "q_3: ┤ Rx(2π/3) ├\n",
       "     ├──────────┤\n",
       "q_4: ┤ Rx(2π/3) ├\n",
       "     └──────────┘\n",
       "c: 5/════════════\n",
       "                 </pre>"
      ],
      "text/plain": [
       "     ┌──────────┐\n",
       "q_0: ┤ Rx(2π/3) ├\n",
       "     ├──────────┤\n",
       "q_1: ┤ Rx(2π/3) ├\n",
       "     ├──────────┤\n",
       "q_2: ┤ Rx(2π/3) ├\n",
       "     ├──────────┤\n",
       "q_3: ┤ Rx(2π/3) ├\n",
       "     ├──────────┤\n",
       "q_4: ┤ Rx(2π/3) ├\n",
       "     └──────────┘\n",
       "c: 5/════════════\n",
       "                 "
      ]
     },
     "execution_count": 23,
     "metadata": {},
     "output_type": "execute_result"
    }
   ],
   "source": [
    "qc = build_mixer_operator_circuit(G, np.pi/3)\n",
    "qc.draw()"
   ]
  },
  {
   "cell_type": "code",
   "execution_count": 65,
   "id": "378a47df-6630-4edc-8d9b-10c01058b89f",
   "metadata": {},
   "outputs": [],
   "source": [
    "def build_qaoa_circuit(G, beta, gamma):\n",
    "    assert(len(beta) == len(gamma))\n",
    "    p = len(beta)\n",
    "    N = G.number_of_nodes()\n",
    "    qc = QuantumCircuit(N,N)\n",
    "\n",
    "    qc.h(range(N))\n",
    "\n",
    "    for i in range(p):\n",
    "        qc.barrier()\n",
    "        for j, k in G.edges():\n",
    "            append_zz(qc, j, k, gamma[i])\n",
    "        qc.barrier()\n",
    "        for n in G.nodes():\n",
    "            append_x(qc, n, beta[i])\n",
    "\n",
    "    qc.measure(range(N), range(N))\n",
    "    return qc\n",
    "def invert_counts(counts):\n",
    "    return {k[::-1]:v for k, v in counts.items()}"
   ]
  },
  {
   "cell_type": "code",
   "execution_count": 69,
   "id": "0e28c88c-3abc-41a4-93d0-611396b35802",
   "metadata": {},
   "outputs": [],
   "source": [
    "def no_of_cuts(x, G):\n",
    "    cut = 0\n",
    "    for i, j in G.edges():\n",
    "        if x[i] != x[j]:\n",
    "            cut += 1\n",
    "    return cut"
   ]
  },
  {
   "cell_type": "code",
   "execution_count": 70,
   "id": "a8896f74-2e0a-40a6-b709-525159d4e16e",
   "metadata": {},
   "outputs": [
    {
     "data": {
      "text/plain": [
       "-3.0029296875"
      ]
     },
     "execution_count": 70,
     "metadata": {},
     "output_type": "execute_result"
    }
   ],
   "source": [
    "def compute_energy(counts, G):\n",
    "    energy = 0\n",
    "    total_counts = 0\n",
    "    for meas, meas_count in counts.items():\n",
    "        cuts = no_of_cuts(meas, G)\n",
    "        energy += -1 * cuts * meas_count\n",
    "        total_counts += meas_count\n",
    "    return energy / total_counts\n",
    "\n",
    "compute_energy(invert_counts(counts), G)"
   ]
  },
  {
   "cell_type": "code",
   "execution_count": 79,
   "id": "3bcb826c-ceb5-44df-86d1-9d636a5241ee",
   "metadata": {},
   "outputs": [],
   "source": [
    "def black_box_obj(G, p):\n",
    "    simulator = AerSimulator(method=\"statevector\", device=\"GPU\")\n",
    "    def f(theta):\n",
    "        beta = theta[:p]\n",
    "        gamma = theta[p:]\n",
    "        qc = build_qaoa_circuit(G, beta, gamma)\n",
    "        counts = simulator.run(qc, shots=1024).result().get_counts()\n",
    "\n",
    "        return compute_energy(invert_counts(counts), G)\n",
    "    return f"
   ]
  },
  {
   "cell_type": "code",
   "execution_count": 80,
   "id": "39057c7b-01a0-4f75-a378-c3b5a8484b5c",
   "metadata": {},
   "outputs": [
    {
     "name": "stdout",
     "output_type": "stream",
     "text": [
      "\n",
      "   Normal return from subroutine COBYLA\n",
      "\n",
      "   NFVALS =  117   F =-5.809570E+00    MAXCV = 0.000000E+00\n",
      "   X = 1.829539E+00   2.220806E+00   2.559170E-01   2.058905E+00   3.247428E-01\n",
      "       2.494799E+00   6.044726E+00   2.145363E+00   3.767020E+00   6.211092E+00\n"
     ]
    },
    {
     "data": {
      "text/plain": [
       " message: Optimization terminated successfully.\n",
       " success: True\n",
       "  status: 1\n",
       "     fun: -5.8095703125\n",
       "       x: [ 1.830e+00  2.221e+00  2.559e-01  2.059e+00  3.247e-01\n",
       "            2.495e+00  6.045e+00  2.145e+00  3.767e+00  6.211e+00]\n",
       "    nfev: 117\n",
       "   maxcv: 0.0"
      ]
     },
     "execution_count": 80,
     "metadata": {},
     "output_type": "execute_result"
    }
   ],
   "source": [
    "p = 5\n",
    "obj = black_box_obj(G, p)\n",
    "init_point = np.array([0.8, 2.2, 0.3,2.1,0.3,2.4,6.1,2.2,3.8,6.1])\n",
    "sample = minimize(obj, init_point, method='COBYLA', options={'maxiter': 2500, 'disp': True})\n",
    "sample"
   ]
  },
  {
   "cell_type": "code",
   "execution_count": 85,
   "id": "5929cdf5-b2e6-4af7-a2da-97755f5736c4",
   "metadata": {},
   "outputs": [
    {
     "data": {
      "text/plain": [
       "{'10100': 17,\n",
       " '10011': 12,\n",
       " '00111': 17,\n",
       " '00010': 1,\n",
       " '00100': 1,\n",
       " '11111': 3,\n",
       " '00000': 3,\n",
       " '01100': 14,\n",
       " '01011': 13,\n",
       " '11000': 18,\n",
       " '11100': 452,\n",
       " '00011': 473}"
      ]
     },
     "execution_count": 85,
     "metadata": {},
     "output_type": "execute_result"
    }
   ],
   "source": [
    "optimal_theta = sample['x']\n",
    "qc = build_qaoa_circuit(G, optimal_theta[:p], optimal_theta[p:])\n",
    "counts = invert_counts(simulator.run(qc, shots=1024).result().get_counts())\n",
    "counts"
   ]
  },
  {
   "cell_type": "code",
   "execution_count": 86,
   "id": "3becc320-6f9e-4b4c-9771-49a19016045d",
   "metadata": {},
   "outputs": [
    {
     "data": {
      "image/png": "[encoded data removed]",
      "text/plain": [
       "<Figure size 640x480 with 1 Axes>"
      ]
     },
     "execution_count": 86,
     "metadata": {},
     "output_type": "execute_result"
    }
   ],
   "source": [
    "plot_histogram(counts)"
   ]
  },
  {
   "cell_type": "code",
   "execution_count": 92,
   "id": "aab76721-3494-4459-905e-21a4afc25738",
   "metadata": {},
   "outputs": [
    {
     "data": {
      "text/html": [
       "<pre style=\"word-wrap: normal;white-space: pre;background: #fff0;line-height: 1.1;font-family: &quot;Courier New&quot;,Courier,monospace\">     ┌───┐ ░                                                                »\n",
       "q_0: ┤ H ├─░───■───────────────■────■──────────────────────────■────────────»\n",
       "     ├───┤ ░   │               │    │     ┌───┐   ┌─────────┐  │  ┌───┐     »\n",
       "q_1: ┤ H ├─░───┼───────────────┼────┼─────┤ X ├───┤ Rz(π/2) ├──┼──┤ X ├─────»\n",
       "     ├───┤ ░   │               │    │     └─┬─┘   └─────────┘  │  └─┬─┘┌───┐»\n",
       "q_2: ┤ H ├─░───┼───────────────┼────┼───────┼──────────────────┼────┼──┤ X ├»\n",
       "     ├───┤ ░ ┌─┴─┐┌─────────┐┌─┴─┐  │       │                  │    │  └─┬─┘»\n",
       "q_3: ┤ H ├─░─┤ X ├┤ Rz(π/2) ├┤ X ├──┼───────■──────────────────┼────■────■──»\n",
       "     ├───┤ ░ └───┘└─────────┘└───┘┌─┴─┐┌─────────┐           ┌─┴─┐          »\n",
       "q_4: ┤ H ├─░──────────────────────┤ X ├┤ Rz(π/2) ├───────────┤ X ├──────────»\n",
       "     └───┘ ░                      └───┘└─────────┘           └───┘          »\n",
       "c: 5/═══════════════════════════════════════════════════════════════════════»\n",
       "                                                                            »\n",
       "«                                                     ░ ┌──────────┐ ░      »\n",
       "«q_0: ────────────────────────────────────────────────░─┤ Rx(2π/3) ├─░───■──»\n",
       "«     ┌───┐┌─────────┐     ┌───┐                      ░ ├──────────┤ ░   │  »\n",
       "«q_1: ┤ X ├┤ Rz(π/2) ├─────┤ X ├──────────────────────░─┤ Rx(2π/3) ├─░───┼──»\n",
       "«     └─┬─┘├─────────┤┌───┐└─┬─┘┌───┐┌─────────┐┌───┐ ░ ├──────────┤ ░   │  »\n",
       "«q_2: ──┼──┤ Rz(π/2) ├┤ X ├──┼──┤ X ├┤ Rz(π/2) ├┤ X ├─░─┤ Rx(2π/3) ├─░───┼──»\n",
       "«       │  └─────────┘└─┬─┘  │  └─┬─┘└─────────┘└─┬─┘ ░ ├──────────┤ ░ ┌─┴─┐»\n",
       "«q_3: ──┼───────────────■────┼────┼───────────────┼───░─┤ Rx(2π/3) ├─░─┤ X ├»\n",
       "«       │                    │    │               │   ░ ├──────────┤ ░ └───┘»\n",
       "«q_4: ──■────────────────────■────■───────────────■───░─┤ Rx(2π/3) ├─░──────»\n",
       "«                                                     ░ └──────────┘ ░      »\n",
       "«c: 5/══════════════════════════════════════════════════════════════════════»\n",
       "«                                                                           »\n",
       "«                                                                    »\n",
       "«q_0: ─────────────■────■──────────────────────────■─────────────────»\n",
       "«                  │    │     ┌───┐   ┌─────────┐  │  ┌───┐     ┌───┐»\n",
       "«q_1: ─────────────┼────┼─────┤ X ├───┤ Rz(π/2) ├──┼──┤ X ├─────┤ X ├»\n",
       "«                  │    │     └─┬─┘   └─────────┘  │  └─┬─┘┌───┐└─┬─┘»\n",
       "«q_2: ─────────────┼────┼───────┼──────────────────┼────┼──┤ X ├──┼──»\n",
       "«     ┌─────────┐┌─┴─┐  │       │                  │    │  └─┬─┘  │  »\n",
       "«q_3: ┤ Rz(π/2) ├┤ X ├──┼───────■──────────────────┼────■────■────┼──»\n",
       "«     └─────────┘└───┘┌─┴─┐┌─────────┐           ┌─┴─┐            │  »\n",
       "«q_4: ────────────────┤ X ├┤ Rz(π/2) ├───────────┤ X ├────────────■──»\n",
       "«                     └───┘└─────────┘           └───┘               »\n",
       "«c: 5/═══════════════════════════════════════════════════════════════»\n",
       "«                                                                    »\n",
       "«                                                ░ ┌──────────┐┌─┐            \n",
       "«q_0: ───────────────────────────────────────────░─┤ Rx(2π/3) ├┤M├────────────\n",
       "«     ┌─────────┐     ┌───┐                      ░ ├──────────┤└╥┘┌─┐         \n",
       "«q_1: ┤ Rz(π/2) ├─────┤ X ├──────────────────────░─┤ Rx(2π/3) ├─╫─┤M├─────────\n",
       "«     ├─────────┤┌───┐└─┬─┘┌───┐┌─────────┐┌───┐ ░ ├──────────┤ ║ └╥┘┌─┐      \n",
       "«q_2: ┤ Rz(π/2) ├┤ X ├──┼──┤ X ├┤ Rz(π/2) ├┤ X ├─░─┤ Rx(2π/3) ├─╫──╫─┤M├──────\n",
       "«     └─────────┘└─┬─┘  │  └─┬─┘└─────────┘└─┬─┘ ░ ├──────────┤ ║  ║ └╥┘┌─┐   \n",
       "«q_3: ─────────────■────┼────┼───────────────┼───░─┤ Rx(2π/3) ├─╫──╫──╫─┤M├───\n",
       "«                       │    │               │   ░ ├──────────┤ ║  ║  ║ └╥┘┌─┐\n",
       "«q_4: ──────────────────■────■───────────────■───░─┤ Rx(2π/3) ├─╫──╫──╫──╫─┤M├\n",
       "«                                                ░ └──────────┘ ║  ║  ║  ║ └╥┘\n",
       "«c: 5/══════════════════════════════════════════════════════════╩══╩══╩══╩══╩═\n",
       "«                                                               0  1  2  3  4 </pre>"
      ],
      "text/plain": [
       "     ┌───┐ ░                                                                »\n",
       "q_0: ┤ H ├─░───■───────────────■────■──────────────────────────■────────────»\n",
       "     ├───┤ ░   │               │    │     ┌───┐   ┌─────────┐  │  ┌───┐     »\n",
       "q_1: ┤ H ├─░───┼───────────────┼────┼─────┤ X ├───┤ Rz(π/2) ├──┼──┤ X ├─────»\n",
       "     ├───┤ ░   │               │    │     └─┬─┘   └─────────┘  │  └─┬─┘┌───┐»\n",
       "q_2: ┤ H ├─░───┼───────────────┼────┼───────┼──────────────────┼────┼──┤ X ├»\n",
       "     ├───┤ ░ ┌─┴─┐┌─────────┐┌─┴─┐  │       │                  │    │  └─┬─┘»\n",
       "q_3: ┤ H ├─░─┤ X ├┤ Rz(π/2) ├┤ X ├──┼───────■──────────────────┼────■────■──»\n",
       "     ├───┤ ░ └───┘└─────────┘└───┘┌─┴─┐┌─────────┐           ┌─┴─┐          »\n",
       "q_4: ┤ H ├─░──────────────────────┤ X ├┤ Rz(π/2) ├───────────┤ X ├──────────»\n",
       "     └───┘ ░                      └───┘└─────────┘           └───┘          »\n",
       "c: 5/═══════════════════════════════════════════════════════════════════════»\n",
       "                                                                            »\n",
       "«                                                     ░ ┌──────────┐ ░      »\n",
       "«q_0: ────────────────────────────────────────────────░─┤ Rx(2π/3) ├─░───■──»\n",
       "«     ┌───┐┌─────────┐     ┌───┐                      ░ ├──────────┤ ░   │  »\n",
       "«q_1: ┤ X ├┤ Rz(π/2) ├─────┤ X ├──────────────────────░─┤ Rx(2π/3) ├─░───┼──»\n",
       "«     └─┬─┘├─────────┤┌───┐└─┬─┘┌───┐┌─────────┐┌───┐ ░ ├──────────┤ ░   │  »\n",
       "«q_2: ──┼──┤ Rz(π/2) ├┤ X ├──┼──┤ X ├┤ Rz(π/2) ├┤ X ├─░─┤ Rx(2π/3) ├─░───┼──»\n",
       "«       │  └─────────┘└─┬─┘  │  └─┬─┘└─────────┘└─┬─┘ ░ ├──────────┤ ░ ┌─┴─┐»\n",
       "«q_3: ──┼───────────────■────┼────┼───────────────┼───░─┤ Rx(2π/3) ├─░─┤ X ├»\n",
       "«       │                    │    │               │   ░ ├──────────┤ ░ └───┘»\n",
       "«q_4: ──■────────────────────■────■───────────────■───░─┤ Rx(2π/3) ├─░──────»\n",
       "«                                                     ░ └──────────┘ ░      »\n",
       "«c: 5/══════════════════════════════════════════════════════════════════════»\n",
       "«                                                                           »\n",
       "«                                                                    »\n",
       "«q_0: ─────────────■────■──────────────────────────■─────────────────»\n",
       "«                  │    │     ┌───┐   ┌─────────┐  │  ┌───┐     ┌───┐»\n",
       "«q_1: ─────────────┼────┼─────┤ X ├───┤ Rz(π/2) ├──┼──┤ X ├─────┤ X ├»\n",
       "«                  │    │     └─┬─┘   └─────────┘  │  └─┬─┘┌───┐└─┬─┘»\n",
       "«q_2: ─────────────┼────┼───────┼──────────────────┼────┼──┤ X ├──┼──»\n",
       "«     ┌─────────┐┌─┴─┐  │       │                  │    │  └─┬─┘  │  »\n",
       "«q_3: ┤ Rz(π/2) ├┤ X ├──┼───────■──────────────────┼────■────■────┼──»\n",
       "«     └─────────┘└───┘┌─┴─┐┌─────────┐           ┌─┴─┐            │  »\n",
       "«q_4: ────────────────┤ X ├┤ Rz(π/2) ├───────────┤ X ├────────────■──»\n",
       "«                     └───┘└─────────┘           └───┘               »\n",
       "«c: 5/═══════════════════════════════════════════════════════════════»\n",
       "«                                                                    »\n",
       "«                                                ░ ┌──────────┐┌─┐            \n",
       "«q_0: ───────────────────────────────────────────░─┤ Rx(2π/3) ├┤M├────────────\n",
       "«     ┌─────────┐     ┌───┐                      ░ ├──────────┤└╥┘┌─┐         \n",
       "«q_1: ┤ Rz(π/2) ├─────┤ X ├──────────────────────░─┤ Rx(2π/3) ├─╫─┤M├─────────\n",
       "«     ├─────────┤┌───┐└─┬─┘┌───┐┌─────────┐┌───┐ ░ ├──────────┤ ║ └╥┘┌─┐      \n",
       "«q_2: ┤ Rz(π/2) ├┤ X ├──┼──┤ X ├┤ Rz(π/2) ├┤ X ├─░─┤ Rx(2π/3) ├─╫──╫─┤M├──────\n",
       "«     └─────────┘└─┬─┘  │  └─┬─┘└─────────┘└─┬─┘ ░ ├──────────┤ ║  ║ └╥┘┌─┐   \n",
       "«q_3: ─────────────■────┼────┼───────────────┼───░─┤ Rx(2π/3) ├─╫──╫──╫─┤M├───\n",
       "«                       │    │               │   ░ ├──────────┤ ║  ║  ║ └╥┘┌─┐\n",
       "«q_4: ──────────────────■────■───────────────■───░─┤ Rx(2π/3) ├─╫──╫──╫──╫─┤M├\n",
       "«                                                ░ └──────────┘ ║  ║  ║  ║ └╥┘\n",
       "«c: 5/══════════════════════════════════════════════════════════╩══╩══╩══╩══╩═\n",
       "«                                                               0  1  2  3  4 "
      ]
     },
     "execution_count": 92,
     "metadata": {},
     "output_type": "execute_result"
    }
   ],
   "source": [
    "qc.draw()"
   ]
  },
  {
   "cell_type": "code",
   "execution_count": null,
   "id": "d6651011-cd22-42eb-902c-83dac7856dc7",
   "metadata": {},
   "outputs": [],
   "source": []
  }
 ],
 "metadata": {
  "kernelspec": {
   "display_name": "Python 3 (ipykernel)",
   "language": "python",
   "name": "python3"
  },
  "language_info": {
   "codemirror_mode": {
    "name": "ipython",
    "version": 3
   },
   "file_extension": ".py",
   "mimetype": "text/x-python",
   "name": "python",
   "nbconvert_exporter": "python",
   "pygments_lexer": "ipython3",
   "version": "3.12.8"
  }
 },
 "nbformat": 4,
 "nbformat_minor": 5
}
